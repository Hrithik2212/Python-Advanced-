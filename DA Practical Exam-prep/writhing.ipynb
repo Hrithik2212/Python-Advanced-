{
 "cells": [
  {
   "cell_type": "code",
   "execution_count": 1,
   "metadata": {},
   "outputs": [],
   "source": [
    "import pandas as pd"
   ]
  },
  {
   "cell_type": "markdown",
   "metadata": {},
   "source": [
    "<?xml version='1.0' encoding='utf-8'?>\n",
    "<data>\n",
    " <row>\n",
    "  <level_0>NewYork</level_0>\n",
    "  <one>1</one>\n",
    "  <two>4</two>\n",
    "  <three>7</three>\n",
    "  <four>10</four>\n",
    " </row>\n",
    "  <row>\n",
    "  <level_0>Colarado</level_0>\n",
    "  <one>2</one>\n",
    "  <two>5</two>\n",
    "  <three>8</three>\n",
    "  <four>11</four>\n",
    " </row>\n",
    "  <row>\n",
    "  <level_0>Ohio</level_0>\n",
    "  <one>3</one>\n",
    "  <two>6</two>\n",
    "  <three>9</three>\n",
    "  <four>12</four>\n",
    " </row>\n",
    "</data>"
   ]
  },
  {
   "cell_type": "code",
   "execution_count": 2,
   "metadata": {},
   "outputs": [],
   "source": [
    "data = pd.read_xml('one.xml')"
   ]
  },
  {
   "cell_type": "code",
   "execution_count": 3,
   "metadata": {},
   "outputs": [
    {
     "data": {
      "text/html": [
       "<div>\n",
       "<style scoped>\n",
       "    .dataframe tbody tr th:only-of-type {\n",
       "        vertical-align: middle;\n",
       "    }\n",
       "\n",
       "    .dataframe tbody tr th {\n",
       "        vertical-align: top;\n",
       "    }\n",
       "\n",
       "    .dataframe thead th {\n",
       "        text-align: right;\n",
       "    }\n",
       "</style>\n",
       "<table border=\"1\" class=\"dataframe\">\n",
       "  <thead>\n",
       "    <tr style=\"text-align: right;\">\n",
       "      <th></th>\n",
       "      <th>level_0</th>\n",
       "      <th>one</th>\n",
       "      <th>two</th>\n",
       "      <th>three</th>\n",
       "      <th>four</th>\n",
       "    </tr>\n",
       "  </thead>\n",
       "  <tbody>\n",
       "    <tr>\n",
       "      <th>0</th>\n",
       "      <td>NewYork</td>\n",
       "      <td>1</td>\n",
       "      <td>4</td>\n",
       "      <td>7</td>\n",
       "      <td>10</td>\n",
       "    </tr>\n",
       "    <tr>\n",
       "      <th>1</th>\n",
       "      <td>Colarado</td>\n",
       "      <td>2</td>\n",
       "      <td>5</td>\n",
       "      <td>8</td>\n",
       "      <td>11</td>\n",
       "    </tr>\n",
       "    <tr>\n",
       "      <th>2</th>\n",
       "      <td>Ohio</td>\n",
       "      <td>3</td>\n",
       "      <td>6</td>\n",
       "      <td>9</td>\n",
       "      <td>12</td>\n",
       "    </tr>\n",
       "  </tbody>\n",
       "</table>\n",
       "</div>"
      ],
      "text/plain": [
       "    level_0  one  two  three  four\n",
       "0   NewYork    1    4      7    10\n",
       "1  Colarado    2    5      8    11\n",
       "2      Ohio    3    6      9    12"
      ]
     },
     "execution_count": 3,
     "metadata": {},
     "output_type": "execute_result"
    }
   ],
   "source": [
    "data"
   ]
  },
  {
   "cell_type": "markdown",
   "metadata": {},
   "source": [
    "<table border=\"1\" class=\"dataframe\">\n",
    "  <thead>\n",
    "    <tr style=\"text-align: right;\">\n",
    "      <th></th>\n",
    "      <th>one</th>\n",
    "      <th>two</th>\n",
    "      <th>three</th>\n",
    "      <th>four</th>\n",
    "    </tr>\n",
    "  </thead>\n",
    "  <tbody>\n",
    "    <tr>\n",
    "      <th>Ohio</th>\n",
    "      <td>0</td>\n",
    "      <td>1</td>\n",
    "      <td>2</td>\n",
    "      <td>3</td>\n",
    "    </tr>\n",
    "    <tr>\n",
    "      <th>Colarado</th>\n",
    "      <td>4</td>\n",
    "      <td>5</td>\n",
    "      <td>6</td>\n",
    "      <td>7</td>\n",
    "    </tr>\n",
    "    <tr>\n",
    "      <th>NewYork</th>\n",
    "      <td>8</td>\n",
    "      <td>9</td>\n",
    "      <td>10</td>\n",
    "      <td>11</td>\n",
    "    </tr>\n",
    "  </tbody>\n",
    "</table>"
   ]
  },
  {
   "cell_type": "code",
   "execution_count": null,
   "metadata": {},
   "outputs": [],
   "source": []
  }
 ],
 "metadata": {
  "kernelspec": {
   "display_name": "Python 3.9.6 64-bit",
   "language": "python",
   "name": "python3"
  },
  "language_info": {
   "codemirror_mode": {
    "name": "ipython",
    "version": 3
   },
   "file_extension": ".py",
   "mimetype": "text/x-python",
   "name": "python",
   "nbconvert_exporter": "python",
   "pygments_lexer": "ipython3",
   "version": "3.9.6"
  },
  "orig_nbformat": 4,
  "vscode": {
   "interpreter": {
    "hash": "0bae745f8ec4217fabcb8fee07d6f0cfda3eab62b76dc08b9184a36fb0012116"
   }
  }
 },
 "nbformat": 4,
 "nbformat_minor": 2
}
