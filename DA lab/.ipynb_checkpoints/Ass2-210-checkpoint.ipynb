{
 "cells": [
  {
   "cell_type": "markdown",
   "id": "1b5f01d0",
   "metadata": {},
   "source": [
    "## DA LAB 2\n"
   ]
  },
  {
   "cell_type": "markdown",
   "id": "9b64d66f",
   "metadata": {},
   "source": [
    "### *1.* Create 2D numpy array using arange() function."
   ]
  },
  {
   "cell_type": "code",
   "execution_count": 2,
   "id": "bf233505",
   "metadata": {},
   "outputs": [
    {
     "data": {
      "text/plain": [
       "array([1, 3, 5, 7, 9])"
      ]
     },
     "execution_count": 2,
     "metadata": {},
     "output_type": "execute_result"
    }
   ],
   "source": [
    "import numpy as np \n",
    "a = np.arange(start=1, stop=10, step=2)\n",
    "a"
   ]
  },
  {
   "cell_type": "markdown",
   "id": "55005489",
   "metadata": {},
   "source": [
    "### *2.* Create 3D array from 1D numpy array."
   ]
  },
  {
   "cell_type": "code",
   "execution_count": 5,
   "id": "f18a2a04",
   "metadata": {},
   "outputs": [
    {
     "data": {
      "text/plain": [
       "array([[0, 1, 2],\n",
       "       [3, 4, 5],\n",
       "       [6, 7, 8]])"
      ]
     },
     "execution_count": 5,
     "metadata": {},
     "output_type": "execute_result"
    }
   ],
   "source": [
    "a = np.array(range(0,9))\n",
    "a.reshape(3,3)"
   ]
  },
  {
   "cell_type": "markdown",
   "id": "8a620995",
   "metadata": {},
   "source": [
    "### 3. Write a NumPy program to create a 3x3 matrix with values ranging from 2 to 10."
   ]
  },
  {
   "cell_type": "code",
   "execution_count": 6,
   "id": "d14b9269",
   "metadata": {},
   "outputs": [
    {
     "data": {
      "text/plain": [
       "array([[ 2,  3,  4],\n",
       "       [ 5,  6,  7],\n",
       "       [ 8,  9, 10]])"
      ]
     },
     "execution_count": 6,
     "metadata": {},
     "output_type": "execute_result"
    }
   ],
   "source": [
    "x =  np.arange(2, 11).reshape(3,3)\n",
    "x"
   ]
  },
  {
   "cell_type": "markdown",
   "id": "85687e07",
   "metadata": {},
   "source": [
    "### 4. Write a NumPy program to reverse an array (first element becomes last)."
   ]
  },
  {
   "cell_type": "code",
   "execution_count": 8,
   "id": "11b37c6f",
   "metadata": {},
   "outputs": [
    {
     "data": {
      "text/plain": [
       "array([9, 8, 7, 6, 5, 4, 3, 2, 1, 0])"
      ]
     },
     "execution_count": 8,
     "metadata": {},
     "output_type": "execute_result"
    }
   ],
   "source": [
    "a = np.array(range(0,10))\n",
    "a[::-1]"
   ]
  },
  {
   "cell_type": "markdown",
   "id": "ef1c2416",
   "metadata": {},
   "source": [
    "### 5. Write a NumPy program to create a 2d array with 1 on the border and 0 inside."
   ]
  },
  {
   "cell_type": "code",
   "execution_count": 9,
   "id": "8176b5b1",
   "metadata": {},
   "outputs": [
    {
     "data": {
      "text/plain": [
       "array([[1, 1, 1],\n",
       "       [1, 0, 1],\n",
       "       [1, 1, 1]])"
      ]
     },
     "execution_count": 9,
     "metadata": {},
     "output_type": "execute_result"
    }
   ],
   "source": [
    "m = np.array([[1,1,1],[1,0,1],[1,1,1]])\n",
    "m"
   ]
  },
  {
   "cell_type": "markdown",
   "id": "b2608a5f",
   "metadata": {},
   "source": [
    "### 6. Create a 2D array A with 4x4 size then split it into 3 different arrays B(1x4),C(2x4) and D(2x4)."
   ]
  },
  {
   "cell_type": "code",
   "execution_count": 12,
   "id": "c25525c2",
   "metadata": {},
   "outputs": [
    {
     "data": {
      "text/plain": [
       "array([[4, 2, 1, 5],\n",
       "       [2, 2, 0, 2],\n",
       "       [2, 5, 5, 4],\n",
       "       [6, 3, 6, 0]])"
      ]
     },
     "execution_count": 12,
     "metadata": {},
     "output_type": "execute_result"
    }
   ],
   "source": [
    "a = np.random.randint(7,size=(4,4))\n",
    "a"
   ]
  },
  {
   "cell_type": "code",
   "execution_count": 15,
   "id": "7e416fb9",
   "metadata": {},
   "outputs": [
    {
     "data": {
      "text/plain": [
       "array([[4, 2, 1, 5]])"
      ]
     },
     "execution_count": 15,
     "metadata": {},
     "output_type": "execute_result"
    }
   ],
   "source": [
    "a[0:1]"
   ]
  },
  {
   "cell_type": "code",
   "execution_count": 16,
   "id": "9bf51881",
   "metadata": {},
   "outputs": [
    {
     "data": {
      "text/plain": [
       "array([[4, 2, 1, 5],\n",
       "       [2, 2, 0, 2]])"
      ]
     },
     "execution_count": 16,
     "metadata": {},
     "output_type": "execute_result"
    }
   ],
   "source": [
    "a[0:2]"
   ]
  },
  {
   "cell_type": "code",
   "execution_count": 18,
   "id": "62485c78",
   "metadata": {},
   "outputs": [
    {
     "data": {
      "text/plain": [
       "array([[2, 5, 5, 4],\n",
       "       [6, 3, 6, 0]])"
      ]
     },
     "execution_count": 18,
     "metadata": {},
     "output_type": "execute_result"
    }
   ],
   "source": [
    "a[2:]"
   ]
  },
  {
   "cell_type": "markdown",
   "id": "46079104",
   "metadata": {},
   "source": [
    "### 7. Perform element wise multiplication of arrays C and D in question 6."
   ]
  },
  {
   "cell_type": "code",
   "execution_count": 19,
   "id": "15c80176",
   "metadata": {},
   "outputs": [
    {
     "data": {
      "text/plain": [
       "array([[ 8, 10,  5, 20],\n",
       "       [12,  6,  0,  0]])"
      ]
     },
     "execution_count": 19,
     "metadata": {},
     "output_type": "execute_result"
    }
   ],
   "source": [
    "a[0:2]*a[2:]"
   ]
  },
  {
   "cell_type": "markdown",
   "id": "b70b8e37",
   "metadata": {},
   "source": [
    "### 8. Create a numpy array matrix of size 3x4. Find column which has highest sum and display."
   ]
  },
  {
   "cell_type": "code",
   "execution_count": 35,
   "id": "dcd0d397",
   "metadata": {},
   "outputs": [
    {
     "name": "stdout",
     "output_type": "stream",
     "text": [
      "[[0 3 5 0]\n",
      " [6 3 1 2]\n",
      " [1 4 5 2]]\n",
      "The highest sum column is 1\n"
     ]
    }
   ],
   "source": [
    "a = np.random.randint(7,size=(3,4))\n",
    "b =list(a.sum(axis=1))\n",
    "print(a)\n",
    "print(\"The highest sum column is {}\".format(b.index(max(b))))\n",
    "\n"
   ]
  },
  {
   "cell_type": "markdown",
   "id": "a157c3fa",
   "metadata": {},
   "source": [
    "---\n",
    "## By Hrithik "
   ]
  }
 ],
 "metadata": {
  "kernelspec": {
   "display_name": "Python 3 (ipykernel)",
   "language": "python",
   "name": "python3"
  },
  "language_info": {
   "codemirror_mode": {
    "name": "ipython",
    "version": 3
   },
   "file_extension": ".py",
   "mimetype": "text/x-python",
   "name": "python",
   "nbconvert_exporter": "python",
   "pygments_lexer": "ipython3",
   "version": "3.9.6"
  }
 },
 "nbformat": 4,
 "nbformat_minor": 5
}
