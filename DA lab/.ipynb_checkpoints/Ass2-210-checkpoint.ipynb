{
 "cells": [
  {
   "cell_type": "markdown",
   "id": "fed6e0ae",
   "metadata": {},
   "source": [
    "## DA LAB 2\n"
   ]
  },
  {
   "cell_type": "markdown",
   "id": "7faa5ea1",
   "metadata": {},
   "source": [
    "### *1.* Create 2D numpy array using arange() function."
   ]
  },
  {
   "cell_type": "code",
   "execution_count": 2,
   "id": "8e4623bc",
   "metadata": {},
   "outputs": [
    {
     "data": {
      "text/plain": [
       "array([1, 3, 5, 7, 9])"
      ]
     },
     "execution_count": 2,
     "metadata": {},
     "output_type": "execute_result"
    }
   ],
   "source": [
    "import numpy as np \n",
    "a = np.arange(start=1, stop=10, step=2)\n",
    "a"
   ]
  },
  {
   "cell_type": "markdown",
   "id": "d607b20f",
   "metadata": {},
   "source": [
    "### *2.* Create 3D array from 1D numpy array."
   ]
  },
  {
   "cell_type": "code",
   "execution_count": 5,
   "id": "7d76aa93",
   "metadata": {},
   "outputs": [
    {
     "data": {
      "text/plain": [
       "array([[0, 1, 2],\n",
       "       [3, 4, 5],\n",
       "       [6, 7, 8]])"
      ]
     },
     "execution_count": 5,
     "metadata": {},
     "output_type": "execute_result"
    }
   ],
   "source": [
    "a = np.array(range(0,9))\n",
    "a.reshape(3,3)"
   ]
  },
  {
   "cell_type": "markdown",
   "id": "b2874656",
   "metadata": {},
   "source": [
    "### 3. Write a NumPy program to create a 3x3 matrix with values ranging from 2 to 10."
   ]
  },
  {
   "cell_type": "code",
   "execution_count": 6,
   "id": "0b9d8810",
   "metadata": {},
   "outputs": [
    {
     "data": {
      "text/plain": [
       "array([[ 2,  3,  4],\n",
       "       [ 5,  6,  7],\n",
       "       [ 8,  9, 10]])"
      ]
     },
     "execution_count": 6,
     "metadata": {},
     "output_type": "execute_result"
    }
   ],
   "source": [
    "x =  np.arange(2, 11).reshape(3,3)\n",
    "x"
   ]
  },
  {
   "cell_type": "markdown",
   "id": "1c2fe953",
   "metadata": {},
   "source": [
    "### 4. Write a NumPy program to reverse an array (first element becomes last)."
   ]
  },
  {
   "cell_type": "code",
   "execution_count": 8,
   "id": "3b557717",
   "metadata": {},
   "outputs": [
    {
     "data": {
      "text/plain": [
       "array([9, 8, 7, 6, 5, 4, 3, 2, 1, 0])"
      ]
     },
     "execution_count": 8,
     "metadata": {},
     "output_type": "execute_result"
    }
   ],
   "source": [
    "a = np.array(range(0,10))\n",
    "a[::-1]"
   ]
  },
  {
   "cell_type": "markdown",
   "id": "01d22c9b",
   "metadata": {},
   "source": [
    "### 5. Write a NumPy program to create a 2d array with 1 on the border and 0 inside."
   ]
  },
  {
   "cell_type": "code",
   "execution_count": 9,
   "id": "84b8403d",
   "metadata": {},
   "outputs": [
    {
     "data": {
      "text/plain": [
       "array([[1, 1, 1],\n",
       "       [1, 0, 1],\n",
       "       [1, 1, 1]])"
      ]
     },
     "execution_count": 9,
     "metadata": {},
     "output_type": "execute_result"
    }
   ],
   "source": [
    "m = np.array([[1,1,1],[1,0,1],[1,1,1]])\n",
    "m"
   ]
  },
  {
   "cell_type": "markdown",
   "id": "ecc9d491",
   "metadata": {},
   "source": [
    "### 6. Create a 2D array A with 4x4 size then split it into 3 different arrays B(1x4),C(2x4) and D(2x4)."
   ]
  },
  {
   "cell_type": "code",
   "execution_count": 12,
   "id": "e6bab195",
   "metadata": {},
   "outputs": [
    {
     "data": {
      "text/plain": [
       "array([[4, 2, 1, 5],\n",
       "       [2, 2, 0, 2],\n",
       "       [2, 5, 5, 4],\n",
       "       [6, 3, 6, 0]])"
      ]
     },
     "execution_count": 12,
     "metadata": {},
     "output_type": "execute_result"
    }
   ],
   "source": [
    "a = np.random.randint(7,size=(4,4))\n",
    "a"
   ]
  },
  {
   "cell_type": "code",
   "execution_count": 15,
   "id": "32f9351e",
   "metadata": {},
   "outputs": [
    {
     "data": {
      "text/plain": [
       "array([[4, 2, 1, 5]])"
      ]
     },
     "execution_count": 15,
     "metadata": {},
     "output_type": "execute_result"
    }
   ],
   "source": [
    "a[0:1]"
   ]
  },
  {
   "cell_type": "code",
   "execution_count": 16,
   "id": "cee0dd8f",
   "metadata": {},
   "outputs": [
    {
     "data": {
      "text/plain": [
       "array([[4, 2, 1, 5],\n",
       "       [2, 2, 0, 2]])"
      ]
     },
     "execution_count": 16,
     "metadata": {},
     "output_type": "execute_result"
    }
   ],
   "source": [
    "a[0:2]"
   ]
  },
  {
   "cell_type": "code",
   "execution_count": 18,
   "id": "5af8b5d8",
   "metadata": {},
   "outputs": [
    {
     "data": {
      "text/plain": [
       "array([[2, 5, 5, 4],\n",
       "       [6, 3, 6, 0]])"
      ]
     },
     "execution_count": 18,
     "metadata": {},
     "output_type": "execute_result"
    }
   ],
   "source": [
    "a[2:]"
   ]
  },
  {
   "cell_type": "markdown",
   "id": "e22fa358",
   "metadata": {},
   "source": [
    "### 7. Perform element wise multiplication of arrays C and D in question 6."
   ]
  },
  {
   "cell_type": "code",
   "execution_count": 19,
   "id": "0c16028c",
   "metadata": {},
   "outputs": [
    {
     "data": {
      "text/plain": [
       "array([[ 8, 10,  5, 20],\n",
       "       [12,  6,  0,  0]])"
      ]
     },
     "execution_count": 19,
     "metadata": {},
     "output_type": "execute_result"
    }
   ],
   "source": [
    "a[0:2]*a[2:]"
   ]
  },
  {
   "cell_type": "markdown",
   "id": "726359bb",
   "metadata": {},
   "source": [
    "### 8. Create a numpy array matrix of size 3x4. Find column which has highest sum and display."
   ]
  },
  {
   "cell_type": "code",
   "execution_count": 35,
   "id": "7ddf563b",
   "metadata": {},
   "outputs": [
    {
     "name": "stdout",
     "output_type": "stream",
     "text": [
      "[[0 3 5 0]\n",
      " [6 3 1 2]\n",
      " [1 4 5 2]]\n",
      "The highest sum column is 1\n"
     ]
    }
   ],
   "source": [
    "a = np.random.randint(7,size=(3,4))\n",
    "b =list(a.sum(axis=1))\n",
    "print(a)\n",
    "print(\"The highest sum column is {}\".format(b.index(max(b))))\n",
    "\n"
   ]
  },
  {
   "cell_type": "markdown",
   "id": "84e4e265",
   "metadata": {},
   "source": [
    "---\n",
    "## By Hrithik "
   ]
  }
 ],
 "metadata": {
  "kernelspec": {
   "display_name": "Python 3 (ipykernel)",
   "language": "python",
   "name": "python3"
  },
  "language_info": {
   "codemirror_mode": {
    "name": "ipython",
    "version": 3
   },
   "file_extension": ".py",
   "mimetype": "text/x-python",
   "name": "python",
   "nbconvert_exporter": "python",
   "pygments_lexer": "ipython3",
   "version": "3.9.6"
  }
 },
 "nbformat": 4,
 "nbformat_minor": 5
}
