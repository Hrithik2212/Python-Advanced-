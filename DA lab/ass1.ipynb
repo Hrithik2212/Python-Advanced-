{
 "cells": [
  {
   "cell_type": "markdown",
   "metadata": {},
   "source": [
    "## *Lab Assignment* \n",
    "### Date - 4th March 2022\n",
    "### *Aim : To Solve the given questions 1-8*\n"
   ]
  },
  {
   "cell_type": "markdown",
   "metadata": {},
   "source": [
    "#### *(1)*  Write a Python program that prompts the user to enter an integer for today’s day of the week (Saturday is 0, Sunday is 1 ,. . . and Friday is 6). Also prompt the user to enter the number of days after today for a future day and display the future day of the week."
   ]
  },
  {
   "cell_type": "code",
   "execution_count": 4,
   "metadata": {},
   "outputs": [
    {
     "name": "stdout",
     "output_type": "stream",
     "text": [
      "Enter the number :2\n",
      "Enter the future daty number : 3\n",
      "The present day is  Tuesday\n",
      "The future day is  Friday\n"
     ]
    }
   ],
   "source": [
    "\n",
    "#Solution 1\n",
    "def week(a,b):\n",
    "    a1=\"The future day is \"\n",
    "    a2=\"The present day is \"\n",
    "    if b==1:\n",
    "        st = a1\n",
    "    else:\n",
    "        st=a2\n",
    "    if a%7==1:\n",
    "        print(st,\"Monay\")\n",
    "    elif a%7==2:\n",
    "        print(st,\"Tuesday\")\n",
    "    elif a%7==3:\n",
    "        print(st,\"Wednesday\")\n",
    "    elif a%7==4:\n",
    "        print(st,\"Thursday\")\n",
    "    elif a%7==5:\n",
    "        print(st,\"Friday\")\n",
    "    elif a%7==6:\n",
    "        print(st,\"Saturday\")\n",
    "    else:\n",
    "        print(st,\"Sunbday\")\n",
    "a = int(input(\"Enter the number :\"))\n",
    "b =int(input(\"Enter the future day number : \"))\n",
    "week(a,2)\n",
    "week(a+b,1)\n"
   ]
  },
  {
   "cell_type": "markdown",
   "metadata": {},
   "source": [
    "#### *2.* Write a program that asks the user to enter the width and length of a room. Once the values have been read, your program should compute and display the area of the room. The length and the width will be entered as floating point numbers. Include units in your prompt and output message; either feet or meters, depending on which unit you are more comfortable working with."
   ]
  },
  {
   "cell_type": "code",
   "execution_count": 5,
   "metadata": {},
   "outputs": [
    {
     "name": "stdout",
     "output_type": "stream",
     "text": [
      "Enter the unit in metres\n",
      "Enter the width4\n",
      "Enter the Length5\n",
      "The area of the room is 20.0 metres\n"
     ]
    }
   ],
   "source": [
    "## Solution 2\n",
    "print(\"Enter the unit in metres\")\n",
    "w = float(input(\"Enter the width : \"))\n",
    "l = float(input(\"Enter the Length : \"))\n",
    "print(f\"The area of the room is {w*l} metres\")"
   ]
  },
  {
   "cell_type": "markdown",
   "metadata": {},
   "source": [
    "#### *3.* Create a program that reads the length and width of a farmer’s field from the user in feet. Display the area of the field in acres. Hint: There are 43,560 square feet in an acre."
   ]
  },
  {
   "cell_type": "code",
   "execution_count": 6,
   "metadata": {},
   "outputs": [
    {
     "name": "stdout",
     "output_type": "stream",
     "text": [
      "Enter the unit in feets\n",
      "Enter the width : 10000\n",
      "Enter the Length : 10000\n",
      "The area of the room is 2295.684113865932 acres\n"
     ]
    }
   ],
   "source": [
    "## Solution 3 \n",
    "print(\"Enter the unit in feets\")\n",
    "w = float(input(\"Enter the width : \"))\n",
    "l = float(input(\"Enter the Length : \"))\n",
    "print(f\"The area of the room is {(w*l)/43560} acres\")"
   ]
  },
  {
   "cell_type": "markdown",
   "metadata": {},
   "source": [
    "#### *4.* Write a program that reads a positive integer, n, from the user and then displays the sum of all of the integers from 1 to n. The sum of the first n positive integers can be computed using the formula: sum = (n)(n + 1)/2"
   ]
  },
  {
   "cell_type": "code",
   "execution_count": 9,
   "metadata": {},
   "outputs": [
    {
     "name": "stdout",
     "output_type": "stream",
     "text": [
      "Enter the number :10\n",
      "The required sum 55.0\n"
     ]
    }
   ],
   "source": [
    "a = int(input(\"Enter the number :\"))\n",
    "print(f\"The required sum {0.5*a*(a+1)}\")"
   ]
  },
  {
   "cell_type": "markdown",
   "metadata": {},
   "source": [
    "#### *5.* Write a Python program that requests three integer values from the user. It then rints one of two things: if any of the values entered are duplicates, it prints &quot;DUPLICATES&quot;; otherwise, it prints &quot;ALL UNIQUE&quot;"
   ]
  },
  {
   "cell_type": "code",
   "execution_count": 31,
   "metadata": {},
   "outputs": [
    {
     "name": "stdout",
     "output_type": "stream",
     "text": [
      "Enter the string : Reddy\n",
      "DUPLICATES\n"
     ]
    }
   ],
   "source": [
    "a = input(\"Enter the string : \")\n",
    "for i in a:\n",
    "    doops = 0\n",
    "    for j in a:\n",
    "        if i == j:\n",
    "            doops+=1\n",
    "    if doops==2:\n",
    "        break\n",
    "if len(a)==doops:\n",
    "    print(\"ALL UNIQUE\")\n",
    "else :\n",
    "    print(\"DUPLICATES\")\n",
    "    \n"
   ]
  },
  {
   "cell_type": "markdown",
   "metadata": {},
   "source": [
    "#### *6.* Write a Python program that sorts three integers. Without using the sort () function. The integers are entered from user using input function. For example if the user enters:\n",
    "#### 7, 3, 5 then the output should be 3 &lt;=5 &lt;=7.\n",
    "#### 6, 2, 6 then the output should be 2&lt;= 6 &lt;=6"
   ]
  },
  {
   "cell_type": "code",
   "execution_count": 26,
   "metadata": {},
   "outputs": [
    {
     "name": "stdout",
     "output_type": "stream",
     "text": [
      "Enter the numbers :7,8,5\n"
     ]
    },
    {
     "data": {
      "text/plain": [
       "[5, 7, 8]"
      ]
     },
     "execution_count": 26,
     "metadata": {},
     "output_type": "execute_result"
    }
   ],
   "source": [
    "## Solution \n",
    "elements = list(map(int,input(\"Enter the numbers :\").split(\",\")))\n",
    "for n in range(len(elements)-1, 0, -1):\n",
    "    for i in range(n):\n",
    "        if elements[i] > elements[i + 1]:\n",
    "            elements[i], elements[i + 1] = elements[i + 1], elements[i]\n",
    "elements"
   ]
  },
  {
   "cell_type": "markdown",
   "metadata": {},
   "source": [
    "#### *7.* Write a Python program that use an if statement to find the largest of three given integers. without using the max() function. For example if user enters: 25, 70, and 16 , then output should be: 70"
   ]
  },
  {
   "cell_type": "code",
   "execution_count": 30,
   "metadata": {},
   "outputs": [
    {
     "name": "stdout",
     "output_type": "stream",
     "text": [
      "Enter the numbers :4,12,3\n",
      "12\n"
     ]
    }
   ],
   "source": [
    "## Solution \n",
    "a=list(map(int,input(\"Enter the numbers :\").split(\",\")))\n",
    "if a[0]>a[1] and a[0]>a[2]:\n",
    "    print(a[0])\n",
    "elif a[1]>a[0] and a[1]>a[2]:\n",
    "    print(a[1])\n",
    "else:\n",
    "    print(a[2])"
   ]
  },
  {
   "cell_type": "markdown",
   "metadata": {},
   "source": [
    "#### *8.* A string is a palindrome if it is identical forward and backward. For example“anna”, “civic”, “level” and “hannah” are all examples of palindromic words. Write a program that reads a string from the user and uses a loop to determines whether or not it is a palindrome. Display the result, including a meaningful output message."
   ]
  },
  {
   "cell_type": "code",
   "execution_count": 24,
   "metadata": {},
   "outputs": [
    {
     "name": "stdout",
     "output_type": "stream",
     "text": [
      "Enter String :civic\n",
      "True\n"
     ]
    }
   ],
   "source": [
    "## Solution 1\n",
    "def isPalindrome(s):\n",
    "    return s == s[::-1]\n",
    "a = input(\"Enter String :\")\n",
    "if isPalindrome(a):\n",
    "    print(\"True\")\n",
    "else:\n",
    "    print(\"False\")\n",
    "    "
   ]
  },
  {
   "cell_type": "code",
   "execution_count": 3,
   "metadata": {},
   "outputs": [
    {
     "name": "stdout",
     "output_type": "stream",
     "text": [
      "Enter a String :bad\n"
     ]
    },
    {
     "data": {
      "text/plain": [
       "False"
      ]
     },
     "execution_count": 3,
     "metadata": {},
     "output_type": "execute_result"
    }
   ],
   "source": [
    "# Shorter Solution \n",
    "y = lambda x: x==x[::-1]\n",
    "y(input(\"Enter a String :\"))"
   ]
  },
  {
   "cell_type": "markdown",
   "metadata": {},
   "source": [
    "---\n",
    "# By Hrithik "
   ]
  }
 ],
 "metadata": {
  "interpreter": {
   "hash": "8040ec2ad0cff8d58f013f52648f683bec6c7eaf791b6d05a489d1a84c1a212f"
  },
  "kernelspec": {
   "display_name": "Python 3 (ipykernel)",
   "language": "python",
   "name": "python3"
  },
  "language_info": {
   "codemirror_mode": {
    "name": "ipython",
    "version": 3
   },
   "file_extension": ".py",
   "mimetype": "text/x-python",
   "name": "python",
   "nbconvert_exporter": "python",
   "pygments_lexer": "ipython3",
   "version": "3.9.6"
  }
 },
 "nbformat": 4,
 "nbformat_minor": 2
}
