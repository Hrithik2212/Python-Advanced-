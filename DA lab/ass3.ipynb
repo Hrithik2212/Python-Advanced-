{
 "cells": [
  {
   "cell_type": "markdown",
   "metadata": {},
   "source": [
    "# Lab Assignment - 3\n",
    "### Date - 20 April 2020"
   ]
  },
  {
   "cell_type": "code",
   "execution_count": 5,
   "metadata": {},
   "outputs": [],
   "source": [
    "# Importing  numpy lib\n",
    "import numpy as np\n",
    "import pandas as pd"
   ]
  },
  {
   "cell_type": "markdown",
   "metadata": {},
   "source": [
    "### 1.Create a 2D numpy array with 5x5 elements and store it in .npy file and display."
   ]
  },
  {
   "cell_type": "code",
   "execution_count": 2,
   "metadata": {},
   "outputs": [
    {
     "data": {
      "text/plain": [
       "array([[7, 9, 4, 9, 1],\n",
       "       [2, 6, 9, 5, 8],\n",
       "       [4, 8, 8, 3, 8],\n",
       "       [0, 7, 0, 5, 8],\n",
       "       [7, 5, 8, 3, 7]])"
      ]
     },
     "execution_count": 2,
     "metadata": {},
     "output_type": "execute_result"
    }
   ],
   "source": [
    "a = np.random.randint(10,size=(5,5))\n",
    "a"
   ]
  },
  {
   "cell_type": "code",
   "execution_count": 4,
   "metadata": {},
   "outputs": [],
   "source": [
    "np.save('5x5array.npy',a)"
   ]
  },
  {
   "cell_type": "markdown",
   "metadata": {},
   "source": [
    "### 2. Create a .csv file in the name demo and store reg.no, name, section, mark1, mark2, mark3 values of 10 students."
   ]
  },
  {
   "cell_type": "code",
   "execution_count": 43,
   "metadata": {},
   "outputs": [
    {
     "data": {
      "text/plain": [
       "''"
      ]
     },
     "execution_count": 43,
     "metadata": {},
     "output_type": "execute_result"
    }
   ],
   "source": [
    "a = np.array(\"Hrithik,Sandeep,Shreyas,Yuva,Govind,Praveen,Thivakar,Varun,Midhun,Sagar\".split(','))\n",
    "b= list(np.array(('D2,'*10).split(',')))\n",
    "mark1 =  np.random.randint(100,size=(10,))\n",
    "mark2 =  np.random.randint(100,size=(10,))\n",
    "mark3 =  np.random.randint(100,size=(10,))\n",
    "b.pop()"
   ]
  },
  {
   "cell_type": "code",
   "execution_count": 41,
   "metadata": {},
   "outputs": [
    {
     "data": {
      "text/plain": [
       "(10,)"
      ]
     },
     "execution_count": 41,
     "metadata": {},
     "output_type": "execute_result"
    }
   ],
   "source": [
    "mark1.shape"
   ]
  },
  {
   "cell_type": "code",
   "execution_count": 50,
   "metadata": {},
   "outputs": [
    {
     "data": {
      "text/plain": [
       "array([[['Hrithik', 'Sandeep', 'Shreyas', 'Yuva', 'Govind', 'Praveen',\n",
       "         'Thivakar', 'Varun', 'Midhun', 'Sagar']],\n",
       "\n",
       "       [['D2', 'D2', 'D2', 'D2', 'D2', 'D2', 'D2', 'D2', 'D2', 'D2']],\n",
       "\n",
       "       [['25', '14', '89', '68', '42', '18', '32', '42', '82', '39']],\n",
       "\n",
       "       [['42', '45', '84', '15', '85', '86', '86', '10', '44', '86']],\n",
       "\n",
       "       [['52', '81', '93', '83', '50', '15', '43', '15', '11', '53']]],\n",
       "      dtype='<U11')"
      ]
     },
     "execution_count": 50,
     "metadata": {},
     "output_type": "execute_result"
    }
   ],
   "source": [
    "data = np.array([[a],[b],[mark1],[mark2],[mark3]])\n",
    "data"
   ]
  },
  {
   "cell_type": "code",
   "execution_count": 51,
   "metadata": {},
   "outputs": [
    {
     "data": {
      "text/plain": [
       "(5, 1, 10)"
      ]
     },
     "execution_count": 51,
     "metadata": {},
     "output_type": "execute_result"
    }
   ],
   "source": [
    "data.shape"
   ]
  },
  {
   "cell_type": "code",
   "execution_count": 59,
   "metadata": {},
   "outputs": [
    {
     "data": {
      "text/plain": [
       "array([['Hrithik', 'D2', '25', '42', '52'],\n",
       "       ['Sandeep', 'D2', '14', '45', '81'],\n",
       "       ['Shreyas', 'D2', '89', '84', '93'],\n",
       "       ['Yuva', 'D2', '68', '15', '83'],\n",
       "       ['Govind', 'D2', '42', '85', '50'],\n",
       "       ['Praveen', 'D2', '18', '86', '15'],\n",
       "       ['Thivakar', 'D2', '32', '86', '43'],\n",
       "       ['Varun', 'D2', '42', '10', '15'],\n",
       "       ['Midhun', 'D2', '82', '44', '11'],\n",
       "       ['Sagar', 'D2', '39', '86', '53']], dtype='<U11')"
      ]
     },
     "execution_count": 59,
     "metadata": {},
     "output_type": "execute_result"
    }
   ],
   "source": [
    "data_n = data.reshape(5,10)\n",
    "data_n.T"
   ]
  },
  {
   "cell_type": "code",
   "execution_count": 60,
   "metadata": {},
   "outputs": [],
   "source": [
    "csv_rows = [\"{},{},{},{},{}\".format(i, j, k,m,n) for i, j, k, m, n in data_n.T]\n",
    "csv_text = \"\\n\".join(csv_rows)\n",
    "\n",
    "with open('sample.csv', 'w') as f:\n",
    "    f.write(csv_text)"
   ]
  },
  {
   "cell_type": "code",
   "execution_count": 61,
   "metadata": {},
   "outputs": [
    {
     "data": {
      "text/plain": [
       "<function TextIOWrapper.close()>"
      ]
     },
     "execution_count": 61,
     "metadata": {},
     "output_type": "execute_result"
    }
   ],
   "source": [
    "f.close"
   ]
  },
  {
   "cell_type": "markdown",
   "metadata": {},
   "source": [
    "## 3. Load the demo.csv file content into numpy array."
   ]
  },
  {
   "cell_type": "code",
   "execution_count": 62,
   "metadata": {},
   "outputs": [],
   "source": [
    "with open('sample.csv','r') as f:\n",
    "    txt  = f.readlines()"
   ]
  },
  {
   "cell_type": "code",
   "execution_count": 79,
   "metadata": {},
   "outputs": [
    {
     "data": {
      "text/plain": [
       "array([['Sandeep', 'D2', '14', '45', '81'],\n",
       "       ['Shreyas', 'D2', '89', '84', '93'],\n",
       "       ['Yuva', 'D2', '68', '15', '83'],\n",
       "       ['Govind', 'D2', '42', '85', '50'],\n",
       "       ['Praveen', 'D2', '18', '86', '15'],\n",
       "       ['Thivakar', 'D2', '32', '86', '43'],\n",
       "       ['Varun', 'D2', '42', '10', '15'],\n",
       "       ['Midhun', 'D2', '82', '44', '11'],\n",
       "       ['Sagar', 'D2', '39', '86', '53']], dtype='<U8')"
      ]
     },
     "execution_count": 79,
     "metadata": {},
     "output_type": "execute_result"
    }
   ],
   "source": [
    "data = np.genfromtxt('sample.csv',delimiter=\",\",skip_header=True,dtype =str)\n",
    "data\n"
   ]
  }
 ],
 "metadata": {
  "interpreter": {
   "hash": "8040ec2ad0cff8d58f013f52648f683bec6c7eaf791b6d05a489d1a84c1a212f"
  },
  "kernelspec": {
   "display_name": "Python 3.9.6 64-bit",
   "language": "python",
   "name": "python3"
  },
  "language_info": {
   "codemirror_mode": {
    "name": "ipython",
    "version": 3
   },
   "file_extension": ".py",
   "mimetype": "text/x-python",
   "name": "python",
   "nbconvert_exporter": "python",
   "pygments_lexer": "ipython3",
   "version": "3.9.6"
  },
  "orig_nbformat": 4
 },
 "nbformat": 4,
 "nbformat_minor": 2
}
