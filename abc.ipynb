{
 "cells": [
  {
   "cell_type": "markdown",
   "metadata": {},
   "source": [
    "# Python Data Types "
   ]
  },
  {
   "cell_type": "markdown",
   "metadata": {},
   "source": [
    "## Data Types"
   ]
  },
  {
   "cell_type": "code",
   "execution_count": 7,
   "metadata": {},
   "outputs": [
    {
     "name": "stdout",
     "output_type": "stream",
     "text": [
      "2 <class 'int'>\n",
      "1 <class 'int'>\n",
      "1 <class 'int'>\n",
      "1 <class 'int'>\n"
     ]
    }
   ],
   "source": [
    "'''Integer'''\n",
    "\n",
    "print(2,type(2))  # decimal declaration \n",
    "print(0b01,type(0b01)) # binary declaration\n",
    "print(0o01,type(0o01)) # octal declaration\n",
    "print(0x01,type(0x01)) # hexadecimal declaration "
   ]
  },
  {
   "cell_type": "code",
   "execution_count": 9,
   "metadata": {},
   "outputs": [
    {
     "name": "stdout",
     "output_type": "stream",
     "text": [
      "<class 'float'>\n"
     ]
    },
    {
     "data": {
      "text/plain": [
       "float"
      ]
     },
     "execution_count": 9,
     "metadata": {},
     "output_type": "execute_result"
    }
   ],
   "source": [
    "\"\"\"Float\"\"\"\n",
    "\n",
    "\"\"\"Any number with decimal point is interpretd by python as foat by default\"\"\"\n",
    "a = 3.2\n",
    "print(type(a))\n",
    "# Any calculation between int and float will lead to result as float \n",
    "c = a + 2\n",
    "type(c)"
   ]
  },
  {
   "cell_type": "code",
   "execution_count": 14,
   "metadata": {},
   "outputs": [
    {
     "name": "stdout",
     "output_type": "stream",
     "text": [
      "<class 'NoneType'>\n",
      "None\n"
     ]
    }
   ],
   "source": [
    "'''NONE'''\n",
    "\n",
    "# The none value means no value is stored \n",
    "a = None \n",
    "print(type(a))\n",
    "print(a)\n",
    "a"
   ]
  },
  {
   "cell_type": "code",
   "execution_count": 18,
   "metadata": {},
   "outputs": [
    {
     "name": "stdout",
     "output_type": "stream",
     "text": [
      "0 False\n",
      "1 True\n",
      "-4 True\n",
      "empty string False\n",
      "[] False\n",
      "ab True\n",
      "[1, 2] True\n"
     ]
    }
   ],
   "source": [
    "''' Bool '''\n",
    "print(0,bool(0))\n",
    "print(1,bool(1))\n",
    "print(-4,bool(-4))\n",
    "print(\"empty string\",bool(\"\"))\n",
    "print([],bool([]))\n",
    "print(\"ab\",bool(\"ab\"))\n",
    "print([1,2],bool([1,2]))"
   ]
  },
  {
   "cell_type": "code",
   "execution_count": 23,
   "metadata": {},
   "outputs": [
    {
     "name": "stdout",
     "output_type": "stream",
     "text": [
      " This is a multiline string \n",
      "        damn\n",
      "The same string can be a \n",
      " multiline \n",
      "The same string can be a \\n multiline \n",
      "b'Hey there \\n hy'\n"
     ]
    }
   ],
   "source": [
    "''' String '''\n",
    "# Sequence of Unicode bytes \n",
    "# Immutable\n",
    "\n",
    "# Multiline Strings\n",
    "print(''' This is a multiline string \n",
    "        damn''')\n",
    "print(\"The same string can be a \\n multiline \")\n",
    "# Raw string -> no escape sequence \n",
    "print(r\"The same string can be a \\n multiline \")\n",
    "# Bytes literals\n",
    "print(b'Hey there \\n hy')s"
   ]
  }
 ],
 "metadata": {
  "interpreter": {
   "hash": "8040ec2ad0cff8d58f013f52648f683bec6c7eaf791b6d05a489d1a84c1a212f"
  },
  "kernelspec": {
   "display_name": "Python 3.9.6 64-bit",
   "language": "python",
   "name": "python3"
  },
  "language_info": {
   "codemirror_mode": {
    "name": "ipython",
    "version": 3
   },
   "file_extension": ".py",
   "mimetype": "text/x-python",
   "name": "python",
   "nbconvert_exporter": "python",
   "pygments_lexer": "ipython3",
   "version": "3.9.6"
  },
  "orig_nbformat": 4
 },
 "nbformat": 4,
 "nbformat_minor": 2
}
