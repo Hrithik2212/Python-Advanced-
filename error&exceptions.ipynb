{
 "cells": [
  {
   "cell_type": "markdown",
   "metadata": {},
   "source": [
    "# Errors & Exceptions \n"
   ]
  },
  {
   "cell_type": "code",
   "execution_count": 1,
   "metadata": {},
   "outputs": [
    {
     "ename": "Exception",
     "evalue": "X should be positive",
     "output_type": "error",
     "traceback": [
      "\u001b[1;31m---------------------------------------------------------------------------\u001b[0m",
      "\u001b[1;31mException\u001b[0m                                 Traceback (most recent call last)",
      "\u001b[1;32mC:\\Users\\HRITHI~1\\AppData\\Local\\Temp/ipykernel_18100/1651802301.py\u001b[0m in \u001b[0;36m<module>\u001b[1;34m\u001b[0m\n\u001b[0;32m      1\u001b[0m \u001b[0mx\u001b[0m\u001b[1;33m=\u001b[0m\u001b[1;33m-\u001b[0m\u001b[1;36m5\u001b[0m\u001b[1;33m\u001b[0m\u001b[1;33m\u001b[0m\u001b[0m\n\u001b[0;32m      2\u001b[0m \u001b[1;32mif\u001b[0m \u001b[0mx\u001b[0m \u001b[1;33m<\u001b[0m \u001b[1;36m0\u001b[0m\u001b[1;33m:\u001b[0m\u001b[1;33m\u001b[0m\u001b[1;33m\u001b[0m\u001b[0m\n\u001b[1;32m----> 3\u001b[1;33m     \u001b[1;32mraise\u001b[0m \u001b[0mException\u001b[0m\u001b[1;33m(\u001b[0m\u001b[1;34m\"X should be positive\"\u001b[0m\u001b[1;33m)\u001b[0m\u001b[1;33m\u001b[0m\u001b[1;33m\u001b[0m\u001b[0m\n\u001b[0m",
      "\u001b[1;31mException\u001b[0m: X should be positive"
     ]
    }
   ],
   "source": [
    "#Exception error\n",
    "x=-5\n",
    "if x < 0:\n",
    "    raise Exception(\"X should be positive\")"
   ]
  },
  {
   "cell_type": "code",
   "execution_count": 2,
   "metadata": {},
   "outputs": [
    {
     "ename": "AssertionError",
     "evalue": "X is not positive",
     "output_type": "error",
     "traceback": [
      "\u001b[1;31m---------------------------------------------------------------------------\u001b[0m",
      "\u001b[1;31mAssertionError\u001b[0m                            Traceback (most recent call last)",
      "\u001b[1;32mC:\\Users\\HRITHI~1\\AppData\\Local\\Temp/ipykernel_18100/1580154727.py\u001b[0m in \u001b[0;36m<module>\u001b[1;34m\u001b[0m\n\u001b[0;32m      1\u001b[0m \u001b[0mx\u001b[0m\u001b[1;33m=\u001b[0m\u001b[1;33m-\u001b[0m\u001b[1;36m5\u001b[0m\u001b[1;33m\u001b[0m\u001b[1;33m\u001b[0m\u001b[0m\n\u001b[1;32m----> 2\u001b[1;33m \u001b[1;32massert\u001b[0m \u001b[1;33m(\u001b[0m\u001b[0mx\u001b[0m\u001b[1;33m>=\u001b[0m\u001b[1;36m0\u001b[0m\u001b[1;33m)\u001b[0m\u001b[1;33m,\u001b[0m\u001b[1;34m'X is not positive'\u001b[0m\u001b[1;33m\u001b[0m\u001b[1;33m\u001b[0m\u001b[0m\n\u001b[0m",
      "\u001b[1;31mAssertionError\u001b[0m: X is not positive"
     ]
    }
   ],
   "source": [
    "#Assertion error\n",
    "x=-5\n",
    "assert (x>=0),'X is not positive'"
   ]
  },
  {
   "cell_type": "code",
   "execution_count": 5,
   "metadata": {},
   "outputs": [
    {
     "name": "stdout",
     "output_type": "stream",
     "text": [
      "Division by Zero is not possible\n"
     ]
    }
   ],
   "source": [
    "try:\n",
    "    a=5/0\n",
    "except:\n",
    "    print(\"Division by Zero is not possible\")"
   ]
  },
  {
   "cell_type": "code",
   "execution_count": 6,
   "metadata": {},
   "outputs": [
    {
     "name": "stdout",
     "output_type": "stream",
     "text": [
      "division by zero\n"
     ]
    }
   ],
   "source": [
    "try:\n",
    "    a=5/0\n",
    "except Exception as e:\n",
    "    print(e)"
   ]
  },
  {
   "cell_type": "code",
   "execution_count": 7,
   "metadata": {},
   "outputs": [
    {
     "name": "stdout",
     "output_type": "stream",
     "text": [
      "Division by zero is not possible\n"
     ]
    }
   ],
   "source": [
    "try:\n",
    "    a=5/0\n",
    "except ZeroDivisionError:\n",
    "    print(\"Division by zero is not possible\")"
   ]
  },
  {
   "cell_type": "code",
   "execution_count": 2,
   "metadata": {},
   "outputs": [
    {
     "name": "stdout",
     "output_type": "stream",
     "text": [
      "Chosse Option 1 or 2\n",
      "1)5/0\n",
      "2)b=a+'10'\n",
      "Your choice :2\n",
      "unsupported operand type(s) for +: 'int' and 'str'\n"
     ]
    }
   ],
   "source": [
    "print(\"Chosse Option 1 or 2\")\n",
    "print(\"1)5/0\")\n",
    "print(\"2)b=a+'10'\")\n",
    "a=int(input(\"Your choice :\"))\n",
    "try:\n",
    "    if a==1:\n",
    "        d=5/0\n",
    "    else:\n",
    "        b=a+'10'\n",
    "except ZeroDivisionError as e:\n",
    "    print(e)\n",
    "except TypeError as e:\n",
    "    print(e)\n"
   ]
  },
  {
   "cell_type": "code",
   "execution_count": 8,
   "metadata": {},
   "outputs": [
    {
     "name": "stdout",
     "output_type": "stream",
     "text": [
      "Chosse Option 1 or 2 or 3\n",
      "1)5/0\n",
      "2)b=a+'10'\n",
      "3)b=3\n",
      "Your choice :3\n",
      "Everything works fine so continue\n"
     ]
    }
   ],
   "source": [
    "#Use of Else Block\n",
    "print(\"Chosse Option 1 or 2 or 3\")\n",
    "print(\"1)5/0\")\n",
    "print(\"2)b=a+'10'\")\n",
    "print(\"3)b=3\")\n",
    "a=int(input(\"Your choice :\"))\n",
    "try:\n",
    "    if a==1:\n",
    "        d=5/0\n",
    "    elif(a==3):\n",
    "        b=3\n",
    "    else:\n",
    "        b=a+'10'\n",
    "except ZeroDivisionError as e:\n",
    "    print(e)\n",
    "except TypeError as e:\n",
    "    print(e)\n",
    "else:\n",
    "    print(\"Everything works fine so continue\")\n"
   ]
  },
  {
   "cell_type": "code",
   "execution_count": 9,
   "metadata": {},
   "outputs": [
    {
     "name": "stdout",
     "output_type": "stream",
     "text": [
      "Chosse Option 1 or 2 or 3\n",
      "1)5/0\n",
      "2)b=a+'10'\n",
      "3)b=3\n",
      "Your choice :2\n",
      "unsupported operand type(s) for +: 'int' and 'str'\n",
      "..........\n",
      "Cleaning Up....\n",
      "Done....\n"
     ]
    }
   ],
   "source": [
    "#Use of Finally Block\n",
    "#The finally block is used for clean up operations mostly \n",
    "print(\"Chosse Option 1 or 2 or 3\")\n",
    "print(\"1)5/0\")\n",
    "print(\"2)b=a+'10'\")\n",
    "print(\"3)b=3\")\n",
    "a=int(input(\"Your choice :\"))\n",
    "try:\n",
    "    if a==1:\n",
    "        d=5/0\n",
    "    elif(a==3):\n",
    "        b=3\n",
    "    else:\n",
    "        b=a+'10'\n",
    "except ZeroDivisionError as e:\n",
    "    print(e)\n",
    "except TypeError as e:\n",
    "    print(e)\n",
    "else:\n",
    "    print(\"Everything works fine so continue\")\n",
    "finally:\n",
    "    print(\"..........\")\n",
    "    print(\"Cleaning Up....\")\n",
    "    print(\"Done....\")"
   ]
  },
  {
   "cell_type": "code",
   "execution_count": 12,
   "metadata": {},
   "outputs": [
    {
     "name": "stdout",
     "output_type": "stream",
     "text": [
      "Enter a number: 200\n"
     ]
    },
    {
     "ename": "ValueTooHighError",
     "evalue": "X Value is greater than 100",
     "output_type": "error",
     "traceback": [
      "\u001b[1;31m---------------------------------------------------------------------------\u001b[0m",
      "\u001b[1;31mValueTooHighError\u001b[0m                         Traceback (most recent call last)",
      "\u001b[1;32mC:\\Users\\HRITHI~1\\AppData\\Local\\Temp/ipykernel_19556/2719526557.py\u001b[0m in \u001b[0;36m<module>\u001b[1;34m\u001b[0m\n\u001b[0;32m      7\u001b[0m \u001b[1;33m\u001b[0m\u001b[0m\n\u001b[0;32m      8\u001b[0m \u001b[0mx\u001b[0m\u001b[1;33m=\u001b[0m\u001b[0mint\u001b[0m\u001b[1;33m(\u001b[0m\u001b[0minput\u001b[0m\u001b[1;33m(\u001b[0m\u001b[1;34m\"Enter a number: \"\u001b[0m\u001b[1;33m)\u001b[0m\u001b[1;33m)\u001b[0m\u001b[1;33m\u001b[0m\u001b[1;33m\u001b[0m\u001b[0m\n\u001b[1;32m----> 9\u001b[1;33m \u001b[0mtest_value\u001b[0m\u001b[1;33m(\u001b[0m\u001b[0mx\u001b[0m\u001b[1;33m)\u001b[0m\u001b[1;33m\u001b[0m\u001b[1;33m\u001b[0m\u001b[0m\n\u001b[0m",
      "\u001b[1;32mC:\\Users\\HRITHI~1\\AppData\\Local\\Temp/ipykernel_19556/2719526557.py\u001b[0m in \u001b[0;36mtest_value\u001b[1;34m(x)\u001b[0m\n\u001b[0;32m      4\u001b[0m \u001b[1;32mdef\u001b[0m \u001b[0mtest_value\u001b[0m\u001b[1;33m(\u001b[0m\u001b[0mx\u001b[0m\u001b[1;33m)\u001b[0m\u001b[1;33m:\u001b[0m\u001b[1;33m\u001b[0m\u001b[1;33m\u001b[0m\u001b[0m\n\u001b[0;32m      5\u001b[0m     \u001b[1;32mif\u001b[0m \u001b[0mx\u001b[0m\u001b[1;33m>\u001b[0m\u001b[1;36m100\u001b[0m\u001b[1;33m:\u001b[0m\u001b[1;33m\u001b[0m\u001b[1;33m\u001b[0m\u001b[0m\n\u001b[1;32m----> 6\u001b[1;33m         \u001b[1;32mraise\u001b[0m \u001b[0mValueTooHighError\u001b[0m\u001b[1;33m(\u001b[0m\u001b[1;34m\"X Value is greater than 100\"\u001b[0m\u001b[1;33m)\u001b[0m\u001b[1;33m\u001b[0m\u001b[1;33m\u001b[0m\u001b[0m\n\u001b[0m\u001b[0;32m      7\u001b[0m \u001b[1;33m\u001b[0m\u001b[0m\n\u001b[0;32m      8\u001b[0m \u001b[0mx\u001b[0m\u001b[1;33m=\u001b[0m\u001b[0mint\u001b[0m\u001b[1;33m(\u001b[0m\u001b[0minput\u001b[0m\u001b[1;33m(\u001b[0m\u001b[1;34m\"Enter a number: \"\u001b[0m\u001b[1;33m)\u001b[0m\u001b[1;33m)\u001b[0m\u001b[1;33m\u001b[0m\u001b[1;33m\u001b[0m\u001b[0m\n",
      "\u001b[1;31mValueTooHighError\u001b[0m: X Value is greater than 100"
     ]
    }
   ],
   "source": [
    "## Defining our own error Class\n",
    "class ValueTooHighError(Exception):\n",
    "    pass\n",
    "def test_value(x):\n",
    "    if x>100: \n",
    "        raise ValueTooHighError(\"X Value is greater than 100\")\n",
    "\n",
    "x=int(input(\"Enter a number: \"))\n",
    "test_value(x)\n"
   ]
  },
  {
   "cell_type": "code",
   "execution_count": 15,
   "metadata": {},
   "outputs": [
    {
     "name": "stdout",
     "output_type": "stream",
     "text": [
      "Enter a number3\n",
      "Value Error:Value of x should not be less than 25\n",
      "Program executed Succesfully\n"
     ]
    }
   ],
   "source": [
    "class ValueTooLowError(Exception):\n",
    "    pass\n",
    "def test_value(x):\n",
    "    if x<25:\n",
    "        raise ValueTooLowError(\"Value Error:Value of x should not be less than 25\")\n",
    "x=int(input(\"Enter a number\"))\n",
    "try:\n",
    "    test_value(x)\n",
    "except Exception as e:\n",
    "    print(e)\n",
    "finally:\n",
    "    print(\"Program executed Succesfully\")"
   ]
  },
  {
   "cell_type": "code",
   "execution_count": 18,
   "metadata": {},
   "outputs": [
    {
     "name": "stdout",
     "output_type": "stream",
     "text": [
      "Enter a number3\n",
      "Value Error:Value of x should not be less than 25 3\n",
      "Program executed Succesfully\n"
     ]
    }
   ],
   "source": [
    "class ValueTooLowError(Exception):\n",
    "    def __init__(self,message,value):\n",
    "        self.message=message\n",
    "        self.value=value\n",
    "def test_value(x):\n",
    "    if x<25:\n",
    "        raise ValueTooLowError(\"Value Error:Value of x should not be less than 25\",x)\n",
    "x=int(input(\"Enter a number\"))\n",
    "try:\n",
    "    test_value(x)\n",
    "except Exception as e:\n",
    "    print(e.message,e.value)\n",
    "finally:\n",
    "    print(\"Program executed Succesfully\")"
   ]
  },
  {
   "cell_type": "code",
   "execution_count": null,
   "metadata": {},
   "outputs": [],
   "source": []
  }
 ],
 "metadata": {
  "interpreter": {
   "hash": "8040ec2ad0cff8d58f013f52648f683bec6c7eaf791b6d05a489d1a84c1a212f"
  },
  "kernelspec": {
   "display_name": "Python 3 (ipykernel)",
   "language": "python",
   "name": "python3"
  },
  "language_info": {
   "codemirror_mode": {
    "name": "ipython",
    "version": 3
   },
   "file_extension": ".py",
   "mimetype": "text/x-python",
   "name": "python",
   "nbconvert_exporter": "python",
   "pygments_lexer": "ipython3",
   "version": "3.9.6"
  }
 },
 "nbformat": 4,
 "nbformat_minor": 2
}
