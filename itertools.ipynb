{
 "cells": [
  {
   "cell_type": "markdown",
   "metadata": {},
   "source": [
    "# Itertools \n"
   ]
  },
  {
   "cell_type": "code",
   "execution_count": 21,
   "metadata": {},
   "outputs": [
    {
     "name": "stdout",
     "output_type": "stream",
     "text": [
      "[(1, 3), (1, 4), (2, 3), (2, 4)]\n",
      "(1, 3, 1, 3) (1, 3, 1, 4) (1, 3, 2, 3) (1, 3, 2, 4) (1, 4, 1, 3) (1, 4, 1, 4) (1, 4, 2, 3) (1, 4, 2, 4) (2, 3, 1, 3) (2, 3, 1, 4) (2, 3, 2, 3) (2, 3, 2, 4) (2, 4, 1, 3) (2, 4, 1, 4) (2, 4, 2, 3) (2, 4, 2, 4)\n"
     ]
    }
   ],
   "source": [
    "from itertools import product\n",
    "#product returns the all possible pairs of 2 lists\n",
    "a=[1,2]\n",
    "b=[3,4]\n",
    "prod=product(a,b)\n",
    "print(list(prod))\n",
    "prod2=list(product(a,b,repeat=2))\n",
    "print(*prod2)"
   ]
  },
  {
   "cell_type": "code",
   "execution_count": 26,
   "metadata": {},
   "outputs": [
    {
     "name": "stdout",
     "output_type": "stream",
     "text": [
      "[(1, 2, 3), (1, 3, 2), (2, 1, 3), (2, 3, 1), (3, 1, 2), (3, 2, 1)]\n",
      "(1, 2) (1, 3) (2, 1) (2, 3) (3, 1) (3, 2)\n"
     ]
    }
   ],
   "source": [
    "from itertools import permutations \n",
    "#permutation gives all possible permutations of the passed list \n",
    "a= [1,2,3]\n",
    "perm= permutations(a)\n",
    "print(list(perm))\n",
    "#we can specify the length of the permutation required as the second argument  \n",
    "perm2=list(permutations(a,2))\n",
    "print(*perm2)"
   ]
  },
  {
   "cell_type": "code",
   "execution_count": 30,
   "metadata": {},
   "outputs": [
    {
     "name": "stdout",
     "output_type": "stream",
     "text": [
      "(1, 2) (1, 3) (2, 3)\n",
      "[(1, 1), (1, 2), (1, 3), (2, 2), (2, 3), (3, 3)]\n",
      "(1, 1, 1) (1, 1, 2) (1, 1, 3) (1, 2, 2) (1, 2, 3) (1, 3, 3) (2, 2, 2) (2, 2, 3) (2, 3, 3) (3, 3, 3)\n"
     ]
    }
   ],
   "source": [
    "from itertools import combinations,combinations_with_replacement\n",
    "#combination returns the possible combinations of the given list\n",
    "combo = combinations(a,2)\n",
    "#second arg is mandatory and it specifies the len of each combination \n",
    "print(*list(combo))\n",
    "# combintions with replacement provides combo in which \n",
    "#same element is allowed to repeat ina set \n",
    "combo_wr=combinations_with_replacement(a,2)\n",
    "print(list(combo_wr))\n",
    "combo_wr_2 = list(combinations_with_replacement(a,3))\n",
    "print(*combo_wr_2)"
   ]
  },
  {
   "cell_type": "code",
   "execution_count": 34,
   "metadata": {},
   "outputs": [
    {
     "name": "stdout",
     "output_type": "stream",
     "text": [
      "1 3 6 10\n",
      "[1, 2, 6, 24]\n",
      "1 2 3 4\n"
     ]
    }
   ],
   "source": [
    "from itertools import accumulate\n",
    "a=[1,2,3,4]\n",
    "# accumulate returns the sum or binary sum of subsequent elements in the list\n",
    "acc = list(accumulate(a))\n",
    "print(*acc)\n",
    "import operator\n",
    "acc1 = list(accumulate(a,operator.mul))\n",
    "print(list(acc1))\n",
    "acc_max=list(accumulate(a,max))\n",
    "print(*acc_max)"
   ]
  },
  {
   "cell_type": "code",
   "execution_count": 39,
   "metadata": {},
   "outputs": [
    {
     "name": "stdout",
     "output_type": "stream",
     "text": [
      "True [1, 2, 3]\n",
      "False [4]\n"
     ]
    }
   ],
   "source": [
    "from itertools import groupby \n",
    "a=[1,2,3,4]\n",
    "def sml_thn_3(x):\n",
    "    return x<=3\n",
    "grp=groupby(a,sml_thn_3)\n",
    "for key,value in grp:\n",
    "    print(key , list(value) )"
   ]
  }
 ],
 "metadata": {
  "interpreter": {
   "hash": "8040ec2ad0cff8d58f013f52648f683bec6c7eaf791b6d05a489d1a84c1a212f"
  },
  "kernelspec": {
   "display_name": "Python 3.9.6 64-bit",
   "language": "python",
   "name": "python3"
  },
  "language_info": {
   "codemirror_mode": {
    "name": "ipython",
    "version": 3
   },
   "file_extension": ".py",
   "mimetype": "text/x-python",
   "name": "python",
   "nbconvert_exporter": "python",
   "pygments_lexer": "ipython3",
   "version": "3.9.6"
  },
  "orig_nbformat": 4
 },
 "nbformat": 4,
 "nbformat_minor": 2
}
