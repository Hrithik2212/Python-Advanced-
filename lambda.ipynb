{
 "cells": [
  {
   "cell_type": "markdown",
   "metadata": {},
   "source": [
    "# LAMBDA FUNCTION\n"
   ]
  },
  {
   "cell_type": "markdown",
   "metadata": {},
   "source": [
    "### Lambda function is used when function is just a single line \n",
    "##### or\n",
    "### Lambada function is used in higher order function which takes other functions as input "
   ]
  },
  {
   "cell_type": "code",
   "execution_count": 19,
   "metadata": {},
   "outputs": [],
   "source": [
    "#lambda arguments: expression\n",
    "add10 = lambda x:x+10"
   ]
  },
  {
   "cell_type": "code",
   "execution_count": 20,
   "metadata": {},
   "outputs": [
    {
     "name": "stdout",
     "output_type": "stream",
     "text": [
      "15\n"
     ]
    }
   ],
   "source": [
    "print(add10(5))"
   ]
  },
  {
   "cell_type": "code",
   "execution_count": 21,
   "metadata": {},
   "outputs": [],
   "source": [
    "## same function the above lambda functon in \n",
    "##conventional way \n",
    "def add10_func(x):\n",
    "    return x+10"
   ]
  },
  {
   "cell_type": "code",
   "execution_count": 22,
   "metadata": {},
   "outputs": [
    {
     "name": "stdout",
     "output_type": "stream",
     "text": [
      "14\n"
     ]
    }
   ],
   "source": [
    "## lambda function with multiple arguments\n",
    "mult = lambda x,y:x*y\n",
    "print(mult(2,7))"
   ]
  },
  {
   "cell_type": "markdown",
   "metadata": {},
   "source": [
    "## Sorted Fucntion \n"
   ]
  },
  {
   "cell_type": "code",
   "execution_count": 23,
   "metadata": {},
   "outputs": [
    {
     "name": "stdout",
     "output_type": "stream",
     "text": [
      "[(1, 2), (15, 1), (5, -1), (10, 4)]\n",
      "[(1, 2), (5, -1), (10, 4), (15, 1)]\n",
      "[(5, -1), (15, 1), (1, 2), (10, 4)]\n"
     ]
    }
   ],
   "source": [
    "### Lambda is used in built in sorted methods \n",
    "points2d=[(1,2),(15,1),(5,-1),(10,4)]\n",
    "points2d_sorted= sorted(points2d)\n",
    "print(points2d)\n",
    "print(points2d_sorted)\n",
    "#Lets say we want to sort by y value \n",
    "# we pass a lambda function as an argument \n",
    "points2d_sy=sorted(points2d,key=lambda x:x[1])\n",
    "print(points2d_sy)"
   ]
  },
  {
   "cell_type": "code",
   "execution_count": 24,
   "metadata": {},
   "outputs": [
    {
     "name": "stdout",
     "output_type": "stream",
     "text": [
      "[(1, 2), (5, -1), (10, 4), (15, 1)]\n"
     ]
    }
   ],
   "source": [
    "#sorting according to sum of each\n",
    "sort_by_sum = sorted(points2d,key=lambda x:x[0]+x[1])\n",
    "print(sort_by_sum)"
   ]
  },
  {
   "cell_type": "code",
   "execution_count": 25,
   "metadata": {},
   "outputs": [
    {
     "name": "stdout",
     "output_type": "stream",
     "text": [
      "[(5, -1), (1, 2), (15, 1), (10, 4)]\n"
     ]
    }
   ],
   "source": [
    "# sorting by product \n",
    "sort_by_prod= sorted(points2d,key=lambda x:x[0]*x[1])\n",
    "print(sort_by_prod)"
   ]
  },
  {
   "cell_type": "markdown",
   "metadata": {},
   "source": [
    "## Map function "
   ]
  },
  {
   "cell_type": "code",
   "execution_count": 26,
   "metadata": {},
   "outputs": [
    {
     "name": "stdout",
     "output_type": "stream",
     "text": [
      "2 4 6 8 10 12\n",
      "2 4 6 8 10 12\n"
     ]
    }
   ],
   "source": [
    "# map(func , seq)\n",
    "lst = [1,2,3,4,5,6]\n",
    "lst2 = map(lambda x:2*x,lst)\n",
    "print(*lst2)\n",
    "\n",
    "#same thing can be achhieved by list comprehension\n",
    "lst3 = [x*2 for x in lst]\n",
    "print(*lst3)"
   ]
  },
  {
   "cell_type": "markdown",
   "metadata": {},
   "source": [
    "## Filter function "
   ]
  },
  {
   "cell_type": "code",
   "execution_count": 27,
   "metadata": {},
   "outputs": [
    {
     "name": "stdout",
     "output_type": "stream",
     "text": [
      "2 4 6\n",
      "1 3 5\n"
     ]
    }
   ],
   "source": [
    "## filter(func,seq)\n",
    "## the return value of arg function passed should be \n",
    "## true or false\n",
    "b= filter(lambda x:x%2==0,lst)\n",
    "print(*b)\n",
    "\n",
    "## List comprehension alternative \n",
    "c= [x for x in lst if x%2!=0]\n",
    "print(*c)"
   ]
  },
  {
   "cell_type": "markdown",
   "metadata": {},
   "source": [
    "## Reduce Function "
   ]
  },
  {
   "cell_type": "code",
   "execution_count": 28,
   "metadata": {},
   "outputs": [
    {
     "name": "stdout",
     "output_type": "stream",
     "text": [
      "720\n"
     ]
    }
   ],
   "source": [
    "## reduce(func,seq)\n",
    "from functools import reduce\n",
    "prod_a = reduce(lambda x,y:x*y,lst)\n",
    "print(prod_a)"
   ]
  }
 ],
 "metadata": {
  "interpreter": {
   "hash": "8040ec2ad0cff8d58f013f52648f683bec6c7eaf791b6d05a489d1a84c1a212f"
  },
  "kernelspec": {
   "display_name": "Python 3.9.6 64-bit",
   "language": "python",
   "name": "python3"
  },
  "language_info": {
   "codemirror_mode": {
    "name": "ipython",
    "version": 3
   },
   "file_extension": ".py",
   "mimetype": "text/x-python",
   "name": "python",
   "nbconvert_exporter": "python",
   "pygments_lexer": "ipython3",
   "version": "3.9.6"
  },
  "orig_nbformat": 4
 },
 "nbformat": 4,
 "nbformat_minor": 2
}
